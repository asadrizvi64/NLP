{
  "cells": [
    {
      "cell_type": "markdown",
      "source": [
        "Importing libraries"
      ],
      "metadata": {
        "id": "LEYkny9OTsll"
      },
      "id": "LEYkny9OTsll"
    },
    {
      "cell_type": "code",
      "execution_count": 14,
      "id": "4fb5344d",
      "metadata": {
        "id": "4fb5344d"
      },
      "outputs": [],
      "source": [
        "import pandas as pd\n",
        "import numpy as np\n",
        "import re"
      ]
    },
    {
      "cell_type": "markdown",
      "source": [
        "Reading dictionary"
      ],
      "metadata": {
        "id": "55GLJh_3PZu5"
      },
      "id": "55GLJh_3PZu5"
    },
    {
      "cell_type": "code",
      "execution_count": 15,
      "id": "40393ff6",
      "metadata": {
        "id": "40393ff6"
      },
      "outputs": [],
      "source": [
        "char__dict = pd.read_csv('Char-dict.csv')"
      ]
    },
    {
      "cell_type": "code",
      "execution_count": 16,
      "id": "c026442d",
      "metadata": {
        "id": "c026442d"
      },
      "outputs": [],
      "source": [
        "def c2r(word):\n",
        "  # convert to roman\n",
        "    char_ = re.findall(r'[\\u0600-\\u06ff]',word)\n",
        "    roman_char_ = []\n",
        "    \n",
        "    for char in char_:\n",
        "        ch = (char__dict.loc[char__dict['Urdu'] == char].values)\n",
        "        try:\n",
        "            roman_char_.append(ch[0][1])\n",
        "        except:\n",
        "            roman_char_.append(char)\n",
        "            \n",
        "    return ''.join(roman_char_)"
      ]
    },
    {
      "cell_type": "code",
      "execution_count": 17,
      "id": "e9eb785d",
      "metadata": {
        "id": "e9eb785d"
      },
      "outputs": [],
      "source": [
        "def u2r(sentence):\n",
        "  # converting urdu to roman\n",
        "    updated_roman = []\n",
        "    urdu_words = sentence.split(' ')\n",
        "    \n",
        "    for urdu_word in urdu_words:\n",
        "        check=True #check indicated that word conversion is remaining\n",
        "        roman_word = c2r(urdu_word)\n",
        "        if roman_word!='':\n",
        "            updated_roman.append(roman_word)\n",
        "            check=False\n",
        "        \n",
        "        if check:\n",
        "            updated_roman.append(urdu_word)\n",
        "    \n",
        "    return ' '.join(updated_roman)        "
      ]
    },
    {
      "cell_type": "code",
      "execution_count": 23,
      "id": "65b828eb",
      "metadata": {
        "colab": {
          "base_uri": "https://localhost:8080/"
        },
        "id": "65b828eb",
        "outputId": "cc603f10-b7b6-4828-ec9b-4c1e04224766"
      },
      "outputs": [
        {
          "output_type": "stream",
          "name": "stdout",
          "text": [
            "\t\t~~~~~~~~~~Prinitng Test Sentence~~~~~~~~~~\n",
            "\n",
            "Urdu Sentence:          اب آئل میں کٹی ہوئی پیاز ڈال کر لائٹ براﺅن کریں پھر لہسن ادرک پیسٹ شامل کر دیں\n",
            "Roman Sentence:         ab oil main kati hoi payaz daal kar light brown karain phir lehson adrak paste shamil kar dain.\n",
            "Created Roman Sentence: ab aayl myan kty hwyy pyaz dal kr layt bran kryan phr lhsn adrk pyst shaml kr dyan\n",
            " \n"
          ]
        }
      ],
      "source": [
        "print('\\t\\t~~~~~~~~~~Prinitng Test Sentence~~~~~~~~~~\\n')\n",
        "urdu_sentence = 'اب آئل میں کٹی ہوئی پیاز ڈال کر لائٹ براﺅن کریں پھر لہسن ادرک پیسٹ شامل کر دیں'\n",
        "roman_sentence = 'ab oil main kati hoi payaz daal kar light brown karain phir lehson adrak paste shamil kar dain.'\n",
        "updated_roman_sentence = u2r(urdu_sentence)\n",
        "    \n",
        "print('Urdu Sentence:          '+urdu_sentence)\n",
        "print('Roman Sentence:         '+roman_sentence)\n",
        "print('Created Roman Sentence: '+updated_roman_sentence)\n",
        "print(' ')"
      ]
    },
    {
      "cell_type": "markdown",
      "id": "9b8f0b2a",
      "metadata": {
        "id": "9b8f0b2a"
      },
      "source": [
        "## Roman to Urdu"
      ]
    },
    {
      "cell_type": "code",
      "execution_count": 19,
      "id": "a49d5efb",
      "metadata": {
        "id": "a49d5efb"
      },
      "outputs": [],
      "source": [
        "def c2u(word):\n",
        "  # convert to urdu script\n",
        "    punctuations = \"\"\"\n",
        "                    !\"#$%&'()*+, -./:;<=>?@[\\]^_`{|}~\n",
        "                    \"\"\"\n",
        "    char_ = list(word)\n",
        "    urdu_char_ = []\n",
        "    \n",
        "    i=0\n",
        "    while i < len(char_):\n",
        "        char = char_[i]\n",
        "        if char in punctuations:\n",
        "            i+=1\n",
        "            continue\n",
        "\n",
        "        if i+1!=len(char_):\n",
        "            i+=1\n",
        "            char+=char_[i]\n",
        "        \n",
        "        ch = (char__dict.loc[char__dict['Roman'] == char].values)\n",
        "        if len(ch)>0:\n",
        "            urdu_char_.append(ch[0][0])\n",
        "        else:\n",
        "            char = char_[i-1]\n",
        "            char = char.upper() if char=='i' else char\n",
        "            ch = (char__dict.loc[char__dict['Roman'] == char].values)\n",
        "            try:\n",
        "                urdu_char_.append(ch[0][0])\n",
        "            except:\n",
        "                pass\n",
        "            \n",
        "            char=char_[i]\n",
        "            char = char.upper() if char=='i' else char\n",
        "            ch = (char__dict.loc[char__dict['Roman'] == char].values)\n",
        "            try:\n",
        "                urdu_char_.append(ch[0][0])\n",
        "            except:\n",
        "                pass\n",
        "        i+=1\n",
        "        \n",
        "    return ''.join(urdu_char_)"
      ]
    },
    {
      "cell_type": "code",
      "execution_count": 20,
      "id": "ccd85daf",
      "metadata": {
        "id": "ccd85daf"
      },
      "outputs": [],
      "source": [
        "def r2u(sentence):\n",
        "  # converting roman to urdu\n",
        "    new_urdu = []\n",
        "    roman_words = sentence.split(' ')\n",
        "    \n",
        "    for roman_word in roman_words:\n",
        "        check=True #check indicated that word conversion is remaining\n",
        "        urdu_word = c2u(roman_word)\n",
        "        if urdu_word!='':\n",
        "            new_urdu.append(urdu_word)\n",
        "            check=False\n",
        "        \n",
        "        if check:\n",
        "            new_urdu.append(roman_word)\n",
        "    \n",
        "    return ' '.join(new_urdu)"
      ]
    },
    {
      "cell_type": "code",
      "execution_count": 22,
      "id": "23142916",
      "metadata": {
        "colab": {
          "base_uri": "https://localhost:8080/"
        },
        "id": "23142916",
        "outputId": "7750f788-b200-45a5-e8b9-de5ee45fb7e9"
      },
      "outputs": [
        {
          "output_type": "stream",
          "name": "stdout",
          "text": [
            "\t\t~~~~~~~~~~Prinitng test sentence~~~~~~~~~~\n",
            "\n",
            "Urdu Sentence:          صرف شکلیں پیاری نہیں باتیں بھی اچھی ہونی چاہئے\n",
            "Roman Sentence:         sirf shaklen pyari nhi baten bhi achi honi chahye\n",
            "Created Urdu Sentence:  ثرف شاکلےن پیارر نحح باتےن بحح اسح حون چاحیے\n",
            " \n"
          ]
        }
      ],
      "source": [
        "print('\\t\\t~~~~~~~~~~Prinitng test sentence~~~~~~~~~~\\n')\n",
        "urdu_sentence = 'صرف شکلیں پیاری نہیں باتیں بھی اچھی ہونی چاہئے'\n",
        "roman_sentence = 'sirf shaklen pyari nhi baten bhi achi honi chahye'\n",
        "new_urdu_sentence = r2u(roman_sentence)\n",
        "    \n",
        "print('Urdu Sentence:          '+urdu_sentence)\n",
        "print('Roman Sentence:         '+roman_sentence)\n",
        "print('Created Urdu Sentence:  '+new_urdu_sentence)\n",
        "print(' ')"
      ]
    },
    {
      "cell_type": "code",
      "source": [],
      "metadata": {
        "id": "gijzuq4SPcUH"
      },
      "id": "gijzuq4SPcUH",
      "execution_count": 21,
      "outputs": []
    }
  ],
  "metadata": {
    "kernelspec": {
      "display_name": "Python 3 (ipykernel)",
      "language": "python",
      "name": "python3"
    },
    "language_info": {
      "codemirror_mode": {
        "name": "ipython",
        "version": 3
      },
      "file_extension": ".py",
      "mimetype": "text/x-python",
      "name": "python",
      "nbconvert_exporter": "python",
      "pygments_lexer": "ipython3",
      "version": "3.9.2"
    },
    "colab": {
      "provenance": []
    }
  },
  "nbformat": 4,
  "nbformat_minor": 5
}